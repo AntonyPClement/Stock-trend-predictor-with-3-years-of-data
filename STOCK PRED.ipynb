{
 "cells": [
  {
   "cell_type": "code",
   "execution_count": 80,
   "metadata": {},
   "outputs": [],
   "source": [
    "import numpy as np\n",
    "import matplotlib.pyplot as plt\n",
    "import pandas as pd\n",
    "from statsmodels.tsa.arima_model import ARIMA\n",
    "from sklearn.metrics import mean_squared_error\n",
    "\n",
    "series = pd.read_csv(r'C:\\Users\\HP\\VIThack\\Challenge3\\ASIANPAINTALLN.csv', header=0,index_col=0, squeeze=True)\n",
    "series2 = pd.read_csv(r'C:\\Users\\HP\\VIThack\\ASIANPAINT.BO.csv', header=0,index_col=0, squeeze=True)\n",
    "train = series.iloc[:,8:9].values#training on 3 years of asianpaints close stocks till 22/8/19\n",
    "test=series2.iloc[:,4:5].values#predicting close stocks for asianpaints:23/8/19 to 22/9/19"
   ]
  },
  {
   "cell_type": "code",
   "execution_count": 81,
   "metadata": {},
   "outputs": [
    {
     "name": "stdout",
     "output_type": "stream",
     "text": [
      "predicted=1576.353804, expected=1579.750000\n",
      "predicted=1580.737230, expected=1597.900024\n",
      "predicted=1601.177787, expected=1601.150024\n",
      "predicted=1602.211098, expected=1603.699951\n",
      "predicted=1604.350216, expected=1615.400024\n",
      "predicted=1618.106676, expected=1615.199951\n",
      "predicted=1616.313216, expected=1576.500000\n",
      "predicted=1572.339403, expected=1534.900024\n",
      "predicted=1529.923411, expected=1520.150024\n",
      "predicted=1519.412496, expected=1532.650024\n",
      "predicted=1535.325216, expected=1540.800049\n",
      "predicted=1542.247509, expected=1561.300049\n",
      "predicted=1564.401928, expected=1539.599976\n",
      "predicted=1537.550745, expected=1547.949951\n",
      "predicted=1548.817548, expected=1520.550049\n",
      "predicted=1519.328033, expected=1531.050049\n",
      "predicted=1531.550839, expected=1548.099976\n",
      "predicted=1552.578455, expected=1554.349976\n",
      "predicted=1555.114859, expected=1672.349976\n"
     ]
    }
   ],
   "source": [
    "history = [x for x in train]\n",
    "predictions = list()\n",
    "for t in range(len(test)):\n",
    "\tmodel = ARIMA(history, order=(5,1,0))\n",
    "\tmodel_fit = model.fit(disp=0)\n",
    "\toutput = model_fit.forecast()\n",
    "\tyhat = output[0]\n",
    "\tpredictions.append(yhat)\n",
    "\tobs = test[t]\n",
    "\thistory.append(obs)\n",
    "\tprint('predicted=%f, expected=%f' % (yhat, obs))\n",
    "error = mean_squared_error(test, predictions)"
   ]
  },
  {
   "cell_type": "code",
   "execution_count": 82,
   "metadata": {},
   "outputs": [
    {
     "data": {
      "image/png": "[encoded data removed]",
      "text/plain": [
       "<Figure size 432x288 with 1 Axes>"
      ]
     },
     "metadata": {
      "needs_background": "light"
     },
     "output_type": "display_data"
    },
    {
     "name": "stdout",
     "output_type": "stream",
     "text": [
      "Test RMSE: 32.257\n"
     ]
    }
   ],
   "source": [
    "import math\n",
    "error=math.sqrt(error)\n",
    "# plot\n",
    "plt.plot(test,  color='red')#real closed stock data in red\n",
    "plt.plot(predictions, color='blue')#predicted closed stock data in blue\n",
    "plt.show()\n",
    "print('Test RMSE: %.3f' % error)"
   ]
  },
  {
   "cell_type": "code",
   "execution_count": 98,
   "metadata": {},
   "outputs": [],
   "source": [
    "#Using LSTM-RNN\n",
    "import numpy as np\n",
    "import matplotlib.pyplot as plt\n",
    "import pandas as pd\n",
    "\n",
    "dataset_train=pd.read_csv(r\"C:\\Users\\HP\\VIThack\\Challenge3\\ASIANPAINTALLN.csv\")#training on 3 years of asianpaints stocks till 22/8/19\n",
    "train_set=dataset_train.iloc[:,8:9].values\n",
    "#normalization\n",
    "from sklearn.preprocessing import MinMaxScaler\n",
    "sc=MinMaxScaler(feature_range=(0,1))\n",
    "scaled_trainset=sc.fit_transform(train_set)"
   ]
  },
  {
   "cell_type": "code",
   "execution_count": 99,
   "metadata": {},
   "outputs": [],
   "source": [
    "#data structure with 80 timesteps and 1 output\n",
    "xtrain=[]\n",
    "ytrain=[]\n",
    "for i in range(80,len(scaled_trainset)):\n",
    "    xtrain.append(scaled_trainset[i-80:i,0])\n",
    "    ytrain.append(scaled_trainset[i,0])\n",
    "xtrain,ytrain=np.array(xtrain),np.array(ytrain)\n",
    "#reshaping\n",
    "xtrain=np.reshape(xtrain,(xtrain.shape[0], xtrain.shape[1], 1)) "
   ]
  },
  {
   "cell_type": "code",
   "execution_count": 100,
   "metadata": {},
   "outputs": [],
   "source": [
    "#rnn lstm\n",
    "from keras.models import Sequential\n",
    "from keras.layers import Dense\n",
    "from keras.layers import LSTM\n",
    "from keras.layers import Dropout\n",
    "\n",
    "reg=Sequential()\n",
    "\n",
    "reg.add(LSTM(units=256,return_sequences=True,input_shape=(xtrain.shape[1], 1)))\n",
    "reg.add(Dropout(rate=0.3))\n",
    "reg.add(LSTM(units=256,return_sequences=True))\n",
    "reg.add(Dropout(rate=0.3))\n",
    "reg.add(LSTM(units=256,return_sequences=True))\n",
    "reg.add(Dropout(rate=0.2))\n",
    "reg.add(LSTM(units=256))\n",
    "reg.add(Dropout(rate=0.2))\n",
    "reg.add(Dense(units=1))\n",
    "reg.compile(optimizer='adam',loss='mean_squared_error')"
   ]
  },
  {
   "cell_type": "code",
   "execution_count": 101,
   "metadata": {},
   "outputs": [
    {
     "name": "stdout",
     "output_type": "stream",
     "text": [
      "Epoch 1/50\n",
      "415/415 [==============================] - 25s 60ms/step - loss: 0.0376\n",
      "Epoch 2/50\n",
      "415/415 [==============================] - 16s 38ms/step - loss: 0.0109\n",
      "Epoch 3/50\n",
      "415/415 [==============================] - 17s 42ms/step - loss: 0.0072\n",
      "Epoch 4/50\n",
      "415/415 [==============================] - 19s 46ms/step - loss: 0.0080\n",
      "Epoch 5/50\n",
      "415/415 [==============================] - 19s 45ms/step - loss: 0.0074\n",
      "Epoch 6/50\n",
      "415/415 [==============================] - 18s 44ms/step - loss: 0.0069\n",
      "Epoch 7/50\n",
      "415/415 [==============================] - 19s 45ms/step - loss: 0.0069\n",
      "Epoch 8/50\n",
      "415/415 [==============================] - 17s 42ms/step - loss: 0.0070\n",
      "Epoch 9/50\n",
      "415/415 [==============================] - 17s 42ms/step - loss: 0.0052\n",
      "Epoch 10/50\n",
      "415/415 [==============================] - 18s 43ms/step - loss: 0.0059\n",
      "Epoch 11/50\n",
      "415/415 [==============================] - 17s 42ms/step - loss: 0.0063\n",
      "Epoch 12/50\n",
      "415/415 [==============================] - 18s 44ms/step - loss: 0.0045\n",
      "Epoch 13/50\n",
      "415/415 [==============================] - 18s 44ms/step - loss: 0.0052\n",
      "Epoch 14/50\n",
      "415/415 [==============================] - 18s 42ms/step - loss: 0.0052\n",
      "Epoch 15/50\n",
      "415/415 [==============================] - 18s 43ms/step - loss: 0.0039\n",
      "Epoch 16/50\n",
      "415/415 [==============================] - 19s 46ms/step - loss: 0.0040\n",
      "Epoch 17/50\n",
      "415/415 [==============================] - 19s 45ms/step - loss: 0.0043\n",
      "Epoch 18/50\n",
      "415/415 [==============================] - 18s 42ms/step - loss: 0.0044\n",
      "Epoch 19/50\n",
      "415/415 [==============================] - 19s 46ms/step - loss: 0.0058\n",
      "Epoch 20/50\n",
      "415/415 [==============================] - 18s 44ms/step - loss: 0.0047\n",
      "Epoch 21/50\n",
      "415/415 [==============================] - 17s 41ms/step - loss: 0.0044\n",
      "Epoch 22/50\n",
      "415/415 [==============================] - 17s 41ms/step - loss: 0.0037\n",
      "Epoch 23/50\n",
      "415/415 [==============================] - 17s 41ms/step - loss: 0.0034\n",
      "Epoch 24/50\n",
      "415/415 [==============================] - 18s 42ms/step - loss: 0.0042\n",
      "Epoch 25/50\n",
      "415/415 [==============================] - 17s 41ms/step - loss: 0.0040\n",
      "Epoch 26/50\n",
      "415/415 [==============================] - 17s 42ms/step - loss: 0.0030\n",
      "Epoch 27/50\n",
      "415/415 [==============================] - 18s 42ms/step - loss: 0.0031\n",
      "Epoch 28/50\n",
      "415/415 [==============================] - 17s 42ms/step - loss: 0.0031\n",
      "Epoch 29/50\n",
      "415/415 [==============================] - 17s 42ms/step - loss: 0.0030\n",
      "Epoch 30/50\n",
      "415/415 [==============================] - 17s 42ms/step - loss: 0.0050\n",
      "Epoch 31/50\n",
      "415/415 [==============================] - 18s 42ms/step - loss: 0.0029\n",
      "Epoch 32/50\n",
      "415/415 [==============================] - 17s 42ms/step - loss: 0.0033\n",
      "Epoch 33/50\n",
      "415/415 [==============================] - 17s 41ms/step - loss: 0.0027\n",
      "Epoch 34/50\n",
      "415/415 [==============================] - 17s 41ms/step - loss: 0.0028\n",
      "Epoch 35/50\n",
      "415/415 [==============================] - 17s 41ms/step - loss: 0.0032\n",
      "Epoch 36/50\n",
      "415/415 [==============================] - 17s 41ms/step - loss: 0.0028\n",
      "Epoch 37/50\n",
      "415/415 [==============================] - 17s 41ms/step - loss: 0.0034\n",
      "Epoch 38/50\n",
      "415/415 [==============================] - 17s 41ms/step - loss: 0.0026\n",
      "Epoch 39/50\n",
      "415/415 [==============================] - 17s 41ms/step - loss: 0.0027\n",
      "Epoch 40/50\n",
      "415/415 [==============================] - 17s 41ms/step - loss: 0.0028\n",
      "Epoch 41/50\n",
      "415/415 [==============================] - 17s 41ms/step - loss: 0.0028\n",
      "Epoch 42/50\n",
      "415/415 [==============================] - 17s 41ms/step - loss: 0.0023\n",
      "Epoch 43/50\n",
      "415/415 [==============================] - 17s 41ms/step - loss: 0.0035\n",
      "Epoch 44/50\n",
      "415/415 [==============================] - 17s 42ms/step - loss: 0.0029\n",
      "Epoch 45/50\n",
      "415/415 [==============================] - 18s 43ms/step - loss: 0.0027\n",
      "Epoch 46/50\n",
      "415/415 [==============================] - 17s 41ms/step - loss: 0.0027\n",
      "Epoch 47/50\n",
      "415/415 [==============================] - 18s 42ms/step - loss: 0.0025\n",
      "Epoch 48/50\n",
      "415/415 [==============================] - 17s 42ms/step - loss: 0.0029\n",
      "Epoch 49/50\n",
      "415/415 [==============================] - 17s 41ms/step - loss: 0.0025\n",
      "Epoch 50/50\n",
      "415/415 [==============================] - 17s 41ms/step - loss: 0.0032\n"
     ]
    },
    {
     "data": {
      "text/plain": [
       "<keras.callbacks.History at 0x1bbd3c93f60>"
      ]
     },
     "execution_count": 101,
     "metadata": {},
     "output_type": "execute_result"
    }
   ],
   "source": [
    "reg.fit(xtrain,ytrain, epochs=50, batch_size=16)"
   ]
  },
  {
   "cell_type": "code",
   "execution_count": 102,
   "metadata": {},
   "outputs": [],
   "source": [
    "#predictions and results\n",
    "dataset_test=pd.read_csv(r\"C:\\Users\\HP\\VIThack\\ASIANPAINT.BO.csv\")#predicting close stocks for asianpaints:23/8/19 to 22/9/19\n",
    "real_stocks=dataset_test.iloc[:,4:5].values\n",
    "total_dataset = pd.concat((dataset_train['Close Price'], dataset_test['Close']), axis = 0)\n",
    "inputs=total_dataset[len(total_dataset)-len(real_stocks)-80:].values\n",
    "inputs=inputs.reshape(-1,1)\n",
    "inputs=sc.transform(inputs)"
   ]
  },
  {
   "cell_type": "code",
   "execution_count": 103,
   "metadata": {},
   "outputs": [],
   "source": [
    "xtest=[]\n",
    "for i in range(80,99):\n",
    "    xtest.append(inputs[i-80:i,0])\n",
    "xtest=np.array(xtest)\n",
    "#reshaping\n",
    "xtest=np.reshape(xtest,(xtest.shape[0], xtest.shape[1], 1))\n",
    "\n",
    "predict_stocks=reg.predict(xtest)\n",
    "predict_stocks=sc.inverse_transform(predict_stocks)"
   ]
  },
  {
   "cell_type": "code",
   "execution_count": 104,
   "metadata": {},
   "outputs": [
    {
     "data": {
      "image/png": "[encoded data removed]",
      "text/plain": [
       "<Figure size 432x288 with 1 Axes>"
      ]
     },
     "metadata": {
      "needs_background": "light"
     },
     "output_type": "display_data"
    }
   ],
   "source": [
    "#visualization\n",
    "plt.plot(real_stocks, color='red', label='real stock prices')\n",
    "plt.plot(predict_stocks, color='blue', label='predicted stock prices')\n",
    "plt.title('Close Stock price prediction')\n",
    "plt.xlabel('time')\n",
    "plt.ylabel('close stock price')\n",
    "plt.legend()\n",
    "plt.show()"
   ]
  },
  {
   "cell_type": "code",
   "execution_count": 107,
   "metadata": {},
   "outputs": [
    {
     "name": "stdout",
     "output_type": "stream",
     "text": [
      "Test error: 39.5829232595085\n"
     ]
    }
   ],
   "source": [
    "import math\n",
    "from sklearn.metrics import mean_squared_error\n",
    "rmse = math.sqrt(mean_squared_error(real_stocks, predict_stocks))\n",
    "print(\"Test error:\" ,rmse)"
   ]
  },
  {
   "cell_type": "code",
   "execution_count": null,
   "metadata": {},
   "outputs": [],
   "source": []
  }
 ],
 "metadata": {
  "kernelspec": {
   "display_name": "Python 3",
   "language": "python",
   "name": "python3"
  },
  "language_info": {
   "codemirror_mode": {
    "name": "ipython",
    "version": 3
   },
   "file_extension": ".py",
   "mimetype": "text/x-python",
   "name": "python",
   "nbconvert_exporter": "python",
   "pygments_lexer": "ipython3",
   "version": "3.7.3"
  }
 },
 "nbformat": 4,
 "nbformat_minor": 2
}
